{
  "nbformat": 4,
  "nbformat_minor": 0,
  "metadata": {
    "colab": {
      "name": "NN using sklearn.ipynb",
      "provenance": []
    },
    "kernelspec": {
      "name": "python3",
      "display_name": "Python 3"
    }
  },
  "cells": [
    {
      "cell_type": "markdown",
      "metadata": {
        "id": "W7UJUWSdWWD2"
      },
      "source": [
        "different activation function for different hidden layers in MLPClassifier cannot be used\n"
      ]
    },
    {
      "cell_type": "code",
      "metadata": {
        "id": "1htSwNXoRWZU"
      },
      "source": [
        "from sklearn import datasets\n",
        "from sklearn.model_selection import train_test_split"
      ],
      "execution_count": 33,
      "outputs": []
    },
    {
      "cell_type": "code",
      "metadata": {
        "id": "FNYzVhLGRth6"
      },
      "source": [
        "iris=datasets.load_iris()"
      ],
      "execution_count": 34,
      "outputs": []
    },
    {
      "cell_type": "code",
      "metadata": {
        "id": "Ch6nCtmeR1q0"
      },
      "source": [
        "x=iris.data\n",
        "y=iris.target"
      ],
      "execution_count": 35,
      "outputs": []
    },
    {
      "cell_type": "code",
      "metadata": {
        "id": "b5FTaDC8R748"
      },
      "source": [
        "x_train,x_test,y_train,y_test= train_test_split(x,y)"
      ],
      "execution_count": 36,
      "outputs": []
    },
    {
      "cell_type": "code",
      "metadata": {
        "id": "pcwchlEzSHCg"
      },
      "source": [
        "from sklearn.neural_network import MLPClassifier"
      ],
      "execution_count": 37,
      "outputs": []
    },
    {
      "cell_type": "code",
      "metadata": {
        "id": "DX1pBElYSgBD"
      },
      "source": [
        "clf=MLPClassifier()"
      ],
      "execution_count": 38,
      "outputs": []
    },
    {
      "cell_type": "code",
      "metadata": {
        "colab": {
          "base_uri": "https://localhost:8080/"
        },
        "id": "5rErEbEwSmz5",
        "outputId": "d3fd5e0a-720e-4198-9e8a-f2aa2b20fb2a"
      },
      "source": [
        "clf.fit(x_train,y_train)"
      ],
      "execution_count": 39,
      "outputs": [
        {
          "output_type": "stream",
          "text": [
            "/usr/local/lib/python3.6/dist-packages/sklearn/neural_network/_multilayer_perceptron.py:571: ConvergenceWarning: Stochastic Optimizer: Maximum iterations (200) reached and the optimization hasn't converged yet.\n",
            "  % self.max_iter, ConvergenceWarning)\n"
          ],
          "name": "stderr"
        },
        {
          "output_type": "execute_result",
          "data": {
            "text/plain": [
              "MLPClassifier(activation='relu', alpha=0.0001, batch_size='auto', beta_1=0.9,\n",
              "              beta_2=0.999, early_stopping=False, epsilon=1e-08,\n",
              "              hidden_layer_sizes=(100,), learning_rate='constant',\n",
              "              learning_rate_init=0.001, max_fun=15000, max_iter=200,\n",
              "              momentum=0.9, n_iter_no_change=10, nesterovs_momentum=True,\n",
              "              power_t=0.5, random_state=None, shuffle=True, solver='adam',\n",
              "              tol=0.0001, validation_fraction=0.1, verbose=False,\n",
              "              warm_start=False)"
            ]
          },
          "metadata": {
            "tags": []
          },
          "execution_count": 39
        }
      ]
    },
    {
      "cell_type": "code",
      "metadata": {
        "colab": {
          "base_uri": "https://localhost:8080/"
        },
        "id": "zsL_N2dRS3Z7",
        "outputId": "b9028d80-b1f7-40b1-a67a-bfa6b618cab9"
      },
      "source": [
        "clf.score(x_test,y_test)"
      ],
      "execution_count": 40,
      "outputs": [
        {
          "output_type": "execute_result",
          "data": {
            "text/plain": [
              "0.9736842105263158"
            ]
          },
          "metadata": {
            "tags": []
          },
          "execution_count": 40
        }
      ]
    },
    {
      "cell_type": "code",
      "metadata": {
        "colab": {
          "base_uri": "https://localhost:8080/"
        },
        "id": "nURba5mHUHen",
        "outputId": "4577a704-5f99-4605-bbf0-c7f4c182ac8d"
      },
      "source": [
        "clf2=MLPClassifier(hidden_layer_sizes=(20,),max_iter=1000)\n",
        "clf2.fit(x_train,y_train) "
      ],
      "execution_count": 41,
      "outputs": [
        {
          "output_type": "stream",
          "text": [
            "/usr/local/lib/python3.6/dist-packages/sklearn/neural_network/_multilayer_perceptron.py:571: ConvergenceWarning: Stochastic Optimizer: Maximum iterations (1000) reached and the optimization hasn't converged yet.\n",
            "  % self.max_iter, ConvergenceWarning)\n"
          ],
          "name": "stderr"
        },
        {
          "output_type": "execute_result",
          "data": {
            "text/plain": [
              "MLPClassifier(activation='relu', alpha=0.0001, batch_size='auto', beta_1=0.9,\n",
              "              beta_2=0.999, early_stopping=False, epsilon=1e-08,\n",
              "              hidden_layer_sizes=(20,), learning_rate='constant',\n",
              "              learning_rate_init=0.001, max_fun=15000, max_iter=1000,\n",
              "              momentum=0.9, n_iter_no_change=10, nesterovs_momentum=True,\n",
              "              power_t=0.5, random_state=None, shuffle=True, solver='adam',\n",
              "              tol=0.0001, validation_fraction=0.1, verbose=False,\n",
              "              warm_start=False)"
            ]
          },
          "metadata": {
            "tags": []
          },
          "execution_count": 41
        }
      ]
    },
    {
      "cell_type": "code",
      "metadata": {
        "colab": {
          "base_uri": "https://localhost:8080/"
        },
        "id": "9jkiuN2aUsYJ",
        "outputId": "096a64db-1db0-43e3-c3e2-87b99d589dd2"
      },
      "source": [
        "clf2.score(x_test,y_test)"
      ],
      "execution_count": 42,
      "outputs": [
        {
          "output_type": "execute_result",
          "data": {
            "text/plain": [
              "0.9736842105263158"
            ]
          },
          "metadata": {
            "tags": []
          },
          "execution_count": 42
        }
      ]
    },
    {
      "cell_type": "code",
      "metadata": {
        "colab": {
          "base_uri": "https://localhost:8080/"
        },
        "id": "7TyNSdYVUzW0",
        "outputId": "156e3c25-2070-422c-e74e-fecb1acc7516"
      },
      "source": [
        "clf2.coefs_ \n",
        "#does not include connection with the biases"
      ],
      "execution_count": 43,
      "outputs": [
        {
          "output_type": "execute_result",
          "data": {
            "text/plain": [
              "[array([[-3.06018224e-02, -3.51609074e-03,  3.81976538e-01,\n",
              "          1.37790948e-19,  2.84107462e-01,  7.24161650e-02,\n",
              "         -2.09446020e-02, -9.23961356e-03,  5.51184171e-03,\n",
              "         -1.37958853e-02,  1.95429882e-04, -4.81798657e-04,\n",
              "         -1.62778369e-16,  2.03035908e-01,  7.18841124e-02,\n",
              "          1.25973429e-02, -1.45130131e-01,  4.45826027e-01,\n",
              "         -2.07133364e-04,  8.67675180e-01],\n",
              "        [-6.85948302e-02,  3.31607407e-23,  4.67413377e-01,\n",
              "         -3.47299386e-09,  5.30147818e-01,  4.12567575e-01,\n",
              "         -1.76144332e-02,  3.08472537e-20, -5.20908593e-01,\n",
              "         -1.75421402e-05, -7.91313897e-03, -1.69317991e-02,\n",
              "         -2.20145433e-04,  3.10417498e-02, -2.35560119e-01,\n",
              "         -9.43912290e-02, -8.97507249e-02,  1.04150315e-01,\n",
              "         -7.22921482e-06,  2.68565669e-01],\n",
              "        [-1.67166120e-02, -2.34460229e-03,  3.58864022e-01,\n",
              "          1.08949151e-16, -6.56783840e-01,  7.39133570e-02,\n",
              "         -1.27958205e-02,  8.77620158e-24,  8.92113602e-01,\n",
              "          1.00041103e-03, -3.71042495e-03,  8.05451658e-03,\n",
              "         -1.61131050e-15,  5.03624844e-01,  4.46110308e-01,\n",
              "          3.08118757e-01,  6.55907376e-01, -2.30807984e-01,\n",
              "          2.02444241e-03, -5.56784288e-01],\n",
              "        [ 1.14119052e-01, -3.56336127e-07, -7.91466286e-02,\n",
              "         -1.14206573e-05, -9.28925969e-01, -6.53231450e-01,\n",
              "         -1.12050264e-04, -2.65509023e-04,  9.89554222e-01,\n",
              "          5.46586220e-03, -5.76987088e-06, -2.66607216e-07,\n",
              "          1.59686849e-02, -6.53331623e-01,  5.44299177e-01,\n",
              "          3.19399970e-01,  2.59323431e-01, -4.54802367e-01,\n",
              "         -8.01467288e-05, -7.38030221e-01]]),\n",
              " array([[ 1.31255082e-18, -2.00017408e-05, -1.10755295e-04],\n",
              "        [-9.60252422e-04,  6.55857420e-04, -1.18736146e-14],\n",
              "        [-2.37458941e-01, -3.08736388e-01, -3.49936307e-01],\n",
              "        [-1.90109832e-03, -3.90777390e-10, -1.79256312e-04],\n",
              "        [ 1.78777935e-01, -5.72343865e-01, -1.84683003e-01],\n",
              "        [ 7.54765246e-01,  5.03052232e-01, -2.51379662e-01],\n",
              "        [ 1.94050226e-03,  1.28479062e-02,  3.64850040e-03],\n",
              "        [ 6.21721636e-24,  1.54758374e-04, -1.89049864e-23],\n",
              "        [-1.27224050e+00, -4.54698217e-01,  1.10456739e+00],\n",
              "        [-4.89498464e-18,  6.15459369e-06,  4.08546196e-06],\n",
              "        [ 1.45234207e-21, -4.97276131e-03,  5.11224248e-08],\n",
              "        [-3.70191990e-04,  2.65813320e-05,  1.19402220e-09],\n",
              "        [-7.64002783e-06, -2.10749521e-03,  2.00577398e-03],\n",
              "        [-4.28161153e-01,  3.19794055e-01, -3.55043230e-01],\n",
              "        [-8.71595683e-01, -4.78172935e-01,  6.19888383e-01],\n",
              "        [-4.94579817e-01, -2.23633437e-01,  1.82274380e-02],\n",
              "        [-5.79092999e-01,  2.88532345e-01,  2.66212047e-01],\n",
              "        [ 8.29103263e-01, -1.00591414e-02, -9.44760060e-01],\n",
              "        [-1.61299164e-03, -5.20265276e-04, -8.43626633e-06],\n",
              "        [ 7.28314986e-01,  4.97116775e-01, -8.34640286e-01]])]"
            ]
          },
          "metadata": {
            "tags": []
          },
          "execution_count": 43
        }
      ]
    },
    {
      "cell_type": "code",
      "metadata": {
        "colab": {
          "base_uri": "https://localhost:8080/"
        },
        "id": "3XgdVggHU_gA",
        "outputId": "8d25a64b-4cb1-45cd-fcf2-b9555defe7f9"
      },
      "source": [
        "len(clf2.coefs_ )\n",
        "#one set of coeff for 1st hidden layer n one for 2nd"
      ],
      "execution_count": 44,
      "outputs": [
        {
          "output_type": "execute_result",
          "data": {
            "text/plain": [
              "2"
            ]
          },
          "metadata": {
            "tags": []
          },
          "execution_count": 44
        }
      ]
    },
    {
      "cell_type": "code",
      "metadata": {
        "colab": {
          "base_uri": "https://localhost:8080/"
        },
        "id": "0cyKWt1oVGAS",
        "outputId": "4cdd428b-4f4e-4dd7-94fd-30260b4ff149"
      },
      "source": [
        "clf2.coefs_[0].shape\n",
        "# 4 features n 20 units in hidden layer"
      ],
      "execution_count": 45,
      "outputs": [
        {
          "output_type": "execute_result",
          "data": {
            "text/plain": [
              "(4, 20)"
            ]
          },
          "metadata": {
            "tags": []
          },
          "execution_count": 45
        }
      ]
    },
    {
      "cell_type": "code",
      "metadata": {
        "colab": {
          "base_uri": "https://localhost:8080/"
        },
        "id": "OAFRkJuLVZmX",
        "outputId": "b7b7859f-ca29-47ee-dbc3-8c763b83991c"
      },
      "source": [
        "clf2.coefs_[1].shape\n",
        "#as 20 hidden layer units n 3 on o/p layer"
      ],
      "execution_count": 46,
      "outputs": [
        {
          "output_type": "execute_result",
          "data": {
            "text/plain": [
              "(20, 3)"
            ]
          },
          "metadata": {
            "tags": []
          },
          "execution_count": 46
        }
      ]
    },
    {
      "cell_type": "code",
      "metadata": {
        "colab": {
          "base_uri": "https://localhost:8080/"
        },
        "id": "B7QgyGB3VkrQ",
        "outputId": "a5b2466e-d155-4a1f-e61b-ff35e8853ebf"
      },
      "source": [
        "clf2.intercepts_[0].shape\n",
        "#20 biases for hidden layer"
      ],
      "execution_count": 47,
      "outputs": [
        {
          "output_type": "execute_result",
          "data": {
            "text/plain": [
              "(20,)"
            ]
          },
          "metadata": {
            "tags": []
          },
          "execution_count": 47
        }
      ]
    },
    {
      "cell_type": "code",
      "metadata": {
        "colab": {
          "base_uri": "https://localhost:8080/"
        },
        "id": "sTwlTcr-Vwzj",
        "outputId": "0bda9ec9-f7ea-427e-9fde-8ae1e2552274"
      },
      "source": [
        "clf2.intercepts_[1].shape\n",
        "#20 biases for o/p layer"
      ],
      "execution_count": 49,
      "outputs": [
        {
          "output_type": "execute_result",
          "data": {
            "text/plain": [
              "(3,)"
            ]
          },
          "metadata": {
            "tags": []
          },
          "execution_count": 49
        }
      ]
    }
  ]
}